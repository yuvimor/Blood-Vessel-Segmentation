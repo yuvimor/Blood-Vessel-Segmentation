{
  "metadata": {
    "kernelspec": {
      "display_name": "Python 3",
      "name": "python3"
    },
    "language_info": {
      "name": "python",
      "version": "3.10.12",
      "mimetype": "text/x-python",
      "codemirror_mode": {
        "name": "ipython",
        "version": 3
      },
      "pygments_lexer": "ipython3",
      "nbconvert_exporter": "python",
      "file_extension": ".py"
    },
    "colab": {
      "provenance": [],
      "gpuType": "T4"
    },
    "accelerator": "GPU"
  },
  "nbformat_minor": 0,
  "nbformat": 4,
  "cells": [
    {
      "cell_type": "markdown",
      "source": [
        "# Blood Vessel Segmentation for Retinal Analysis\n",
        "\n",
        "---\n",
        "\n",
        "\n"
      ],
      "metadata": {
        "id": "TVHuVfaAuHKm"
      }
    },
    {
      "cell_type": "markdown",
      "source": [
        "Dataset Link: https://www.kaggle.com/datasets/abdallahwagih/retina-blood-vessel/data"
      ],
      "metadata": {
        "id": "5StNg6uSuz59"
      }
    },
    {
      "cell_type": "markdown",
      "source": [
        "## Import required libraries"
      ],
      "metadata": {
        "id": "e71sKHObr_uC"
      }
    },
    {
      "cell_type": "code",
      "source": [
        "import os\n",
        "import cv2\n",
        "import time\n",
        "import random\n",
        "import numpy as np\n",
        "from glob import glob\n",
        "from tqdm import tqdm\n",
        "from operator import add\n",
        "\n",
        "import torch\n",
        "import torch.nn as nn\n",
        "import torch.nn.functional as F\n",
        "from torch.utils.data import Dataset, DataLoader\n",
        "from sklearn.metrics import accuracy_score, f1_score, jaccard_score, precision_score, recall_score"
      ],
      "metadata": {
        "execution": {
          "iopub.status.busy": "2023-08-17T20:23:24.126635Z",
          "iopub.execute_input": "2023-08-17T20:23:24.127002Z",
          "iopub.status.idle": "2023-08-17T20:23:28.094197Z",
          "shell.execute_reply.started": "2023-08-17T20:23:24.126971Z",
          "shell.execute_reply": "2023-08-17T20:23:28.093200Z"
        },
        "trusted": true,
        "id": "CQT05N5Mr_uH"
      },
      "execution_count": 5,
      "outputs": []
    },
    {
      "cell_type": "markdown",
      "source": [
        "## Get dataset from Kaggle"
      ],
      "metadata": {
        "id": "m0hv0b28ushv"
      }
    },
    {
      "cell_type": "code",
      "execution_count": 1,
      "metadata": {
        "colab": {
          "base_uri": "https://localhost:8080/",
          "height": 73
        },
        "id": "lT96GW9P3xGs",
        "outputId": "8583e83e-257e-49e2-b3e9-eeb383e206f8"
      },
      "outputs": [
        {
          "output_type": "display_data",
          "data": {
            "text/plain": [
              "<IPython.core.display.HTML object>"
            ],
            "text/html": [
              "\n",
              "     <input type=\"file\" id=\"files-34abf841-4229-4441-9008-b38dec127020\" name=\"files[]\" multiple disabled\n",
              "        style=\"border:none\" />\n",
              "     <output id=\"result-34abf841-4229-4441-9008-b38dec127020\">\n",
              "      Upload widget is only available when the cell has been executed in the\n",
              "      current browser session. Please rerun this cell to enable.\n",
              "      </output>\n",
              "      <script>// Copyright 2017 Google LLC\n",
              "//\n",
              "// Licensed under the Apache License, Version 2.0 (the \"License\");\n",
              "// you may not use this file except in compliance with the License.\n",
              "// You may obtain a copy of the License at\n",
              "//\n",
              "//      http://www.apache.org/licenses/LICENSE-2.0\n",
              "//\n",
              "// Unless required by applicable law or agreed to in writing, software\n",
              "// distributed under the License is distributed on an \"AS IS\" BASIS,\n",
              "// WITHOUT WARRANTIES OR CONDITIONS OF ANY KIND, either express or implied.\n",
              "// See the License for the specific language governing permissions and\n",
              "// limitations under the License.\n",
              "\n",
              "/**\n",
              " * @fileoverview Helpers for google.colab Python module.\n",
              " */\n",
              "(function(scope) {\n",
              "function span(text, styleAttributes = {}) {\n",
              "  const element = document.createElement('span');\n",
              "  element.textContent = text;\n",
              "  for (const key of Object.keys(styleAttributes)) {\n",
              "    element.style[key] = styleAttributes[key];\n",
              "  }\n",
              "  return element;\n",
              "}\n",
              "\n",
              "// Max number of bytes which will be uploaded at a time.\n",
              "const MAX_PAYLOAD_SIZE = 100 * 1024;\n",
              "\n",
              "function _uploadFiles(inputId, outputId) {\n",
              "  const steps = uploadFilesStep(inputId, outputId);\n",
              "  const outputElement = document.getElementById(outputId);\n",
              "  // Cache steps on the outputElement to make it available for the next call\n",
              "  // to uploadFilesContinue from Python.\n",
              "  outputElement.steps = steps;\n",
              "\n",
              "  return _uploadFilesContinue(outputId);\n",
              "}\n",
              "\n",
              "// This is roughly an async generator (not supported in the browser yet),\n",
              "// where there are multiple asynchronous steps and the Python side is going\n",
              "// to poll for completion of each step.\n",
              "// This uses a Promise to block the python side on completion of each step,\n",
              "// then passes the result of the previous step as the input to the next step.\n",
              "function _uploadFilesContinue(outputId) {\n",
              "  const outputElement = document.getElementById(outputId);\n",
              "  const steps = outputElement.steps;\n",
              "\n",
              "  const next = steps.next(outputElement.lastPromiseValue);\n",
              "  return Promise.resolve(next.value.promise).then((value) => {\n",
              "    // Cache the last promise value to make it available to the next\n",
              "    // step of the generator.\n",
              "    outputElement.lastPromiseValue = value;\n",
              "    return next.value.response;\n",
              "  });\n",
              "}\n",
              "\n",
              "/**\n",
              " * Generator function which is called between each async step of the upload\n",
              " * process.\n",
              " * @param {string} inputId Element ID of the input file picker element.\n",
              " * @param {string} outputId Element ID of the output display.\n",
              " * @return {!Iterable<!Object>} Iterable of next steps.\n",
              " */\n",
              "function* uploadFilesStep(inputId, outputId) {\n",
              "  const inputElement = document.getElementById(inputId);\n",
              "  inputElement.disabled = false;\n",
              "\n",
              "  const outputElement = document.getElementById(outputId);\n",
              "  outputElement.innerHTML = '';\n",
              "\n",
              "  const pickedPromise = new Promise((resolve) => {\n",
              "    inputElement.addEventListener('change', (e) => {\n",
              "      resolve(e.target.files);\n",
              "    });\n",
              "  });\n",
              "\n",
              "  const cancel = document.createElement('button');\n",
              "  inputElement.parentElement.appendChild(cancel);\n",
              "  cancel.textContent = 'Cancel upload';\n",
              "  const cancelPromise = new Promise((resolve) => {\n",
              "    cancel.onclick = () => {\n",
              "      resolve(null);\n",
              "    };\n",
              "  });\n",
              "\n",
              "  // Wait for the user to pick the files.\n",
              "  const files = yield {\n",
              "    promise: Promise.race([pickedPromise, cancelPromise]),\n",
              "    response: {\n",
              "      action: 'starting',\n",
              "    }\n",
              "  };\n",
              "\n",
              "  cancel.remove();\n",
              "\n",
              "  // Disable the input element since further picks are not allowed.\n",
              "  inputElement.disabled = true;\n",
              "\n",
              "  if (!files) {\n",
              "    return {\n",
              "      response: {\n",
              "        action: 'complete',\n",
              "      }\n",
              "    };\n",
              "  }\n",
              "\n",
              "  for (const file of files) {\n",
              "    const li = document.createElement('li');\n",
              "    li.append(span(file.name, {fontWeight: 'bold'}));\n",
              "    li.append(span(\n",
              "        `(${file.type || 'n/a'}) - ${file.size} bytes, ` +\n",
              "        `last modified: ${\n",
              "            file.lastModifiedDate ? file.lastModifiedDate.toLocaleDateString() :\n",
              "                                    'n/a'} - `));\n",
              "    const percent = span('0% done');\n",
              "    li.appendChild(percent);\n",
              "\n",
              "    outputElement.appendChild(li);\n",
              "\n",
              "    const fileDataPromise = new Promise((resolve) => {\n",
              "      const reader = new FileReader();\n",
              "      reader.onload = (e) => {\n",
              "        resolve(e.target.result);\n",
              "      };\n",
              "      reader.readAsArrayBuffer(file);\n",
              "    });\n",
              "    // Wait for the data to be ready.\n",
              "    let fileData = yield {\n",
              "      promise: fileDataPromise,\n",
              "      response: {\n",
              "        action: 'continue',\n",
              "      }\n",
              "    };\n",
              "\n",
              "    // Use a chunked sending to avoid message size limits. See b/62115660.\n",
              "    let position = 0;\n",
              "    do {\n",
              "      const length = Math.min(fileData.byteLength - position, MAX_PAYLOAD_SIZE);\n",
              "      const chunk = new Uint8Array(fileData, position, length);\n",
              "      position += length;\n",
              "\n",
              "      const base64 = btoa(String.fromCharCode.apply(null, chunk));\n",
              "      yield {\n",
              "        response: {\n",
              "          action: 'append',\n",
              "          file: file.name,\n",
              "          data: base64,\n",
              "        },\n",
              "      };\n",
              "\n",
              "      let percentDone = fileData.byteLength === 0 ?\n",
              "          100 :\n",
              "          Math.round((position / fileData.byteLength) * 100);\n",
              "      percent.textContent = `${percentDone}% done`;\n",
              "\n",
              "    } while (position < fileData.byteLength);\n",
              "  }\n",
              "\n",
              "  // All done.\n",
              "  yield {\n",
              "    response: {\n",
              "      action: 'complete',\n",
              "    }\n",
              "  };\n",
              "}\n",
              "\n",
              "scope.google = scope.google || {};\n",
              "scope.google.colab = scope.google.colab || {};\n",
              "scope.google.colab._files = {\n",
              "  _uploadFiles,\n",
              "  _uploadFilesContinue,\n",
              "};\n",
              "})(self);\n",
              "</script> "
            ]
          },
          "metadata": {}
        },
        {
          "output_type": "stream",
          "name": "stdout",
          "text": [
            "Saving kaggle.json to kaggle.json\n"
          ]
        }
      ],
      "source": [
        "from google.colab import files\n",
        "\n",
        "# Uploading the kaggle.json file\n",
        "uploaded = files.upload()"
      ]
    },
    {
      "cell_type": "code",
      "source": [
        "# Moving the uploaded kaggle.json file to the appropriate directory\n",
        "!mkdir -p ~/.kaggle\n",
        "!cp kaggle.json ~/.kaggle/\n",
        "!chmod 600 ~/.kaggle/kaggle.json"
      ],
      "metadata": {
        "id": "jULOVTA_4m9b"
      },
      "execution_count": 2,
      "outputs": []
    },
    {
      "cell_type": "code",
      "source": [
        "# Downloading the dataset from kaggle\n",
        "!kaggle datasets download -d abdallahwagih/retina-blood-vessel"
      ],
      "metadata": {
        "colab": {
          "base_uri": "https://localhost:8080/"
        },
        "id": "uZygfyRh4pMz",
        "outputId": "08c85c6f-7a1e-42bd-8593-b842e002392a"
      },
      "execution_count": 3,
      "outputs": [
        {
          "output_type": "stream",
          "name": "stdout",
          "text": [
            "Downloading retina-blood-vessel.zip to /content\n",
            " 85% 28.0M/32.9M [00:00<00:00, 91.6MB/s]\n",
            "100% 32.9M/32.9M [00:00<00:00, 96.9MB/s]\n"
          ]
        }
      ]
    },
    {
      "cell_type": "code",
      "source": [
        "# Unzipping the downloaded dataset\n",
        "!unzip -q retina-blood-vessel.zip"
      ],
      "metadata": {
        "id": "DApCevvw4yCx"
      },
      "execution_count": 4,
      "outputs": []
    },
    {
      "cell_type": "markdown",
      "source": [
        "## Create helper classes and functions"
      ],
      "metadata": {
        "id": "5q8p7PIhr_uJ"
      }
    },
    {
      "cell_type": "markdown",
      "source": [
        "### Dataset class"
      ],
      "metadata": {
        "id": "COX2_no6r_uJ"
      }
    },
    {
      "cell_type": "code",
      "source": [
        "class DriveDataset(Dataset):\n",
        "    def __init__(self, images_path, masks_path):\n",
        "\n",
        "        self.images_path = images_path\n",
        "        self.masks_path = masks_path\n",
        "        self.n_samples = len(images_path)\n",
        "\n",
        "    def __getitem__(self, index):\n",
        "        \"\"\" Reading image \"\"\"\n",
        "        image = cv2.imread(self.images_path[index], cv2.IMREAD_COLOR)\n",
        "        image = image/255.0\n",
        "        image = np.transpose(image, (2, 0, 1))\n",
        "        image = image.astype(np.float32)\n",
        "        image = torch.from_numpy(image)\n",
        "\n",
        "        \"\"\" Reading mask \"\"\"\n",
        "        mask = cv2.imread(self.masks_path[index], cv2.IMREAD_GRAYSCALE)\n",
        "        mask = mask/255.0\n",
        "        mask = np.expand_dims(mask, axis=0)\n",
        "        mask = mask.astype(np.float32)\n",
        "        mask = torch.from_numpy(mask)\n",
        "\n",
        "        return image, mask\n",
        "\n",
        "    def __len__(self):\n",
        "        return self.n_samples"
      ],
      "metadata": {
        "execution": {
          "iopub.status.busy": "2023-08-17T20:23:35.112667Z",
          "iopub.execute_input": "2023-08-17T20:23:35.113221Z",
          "iopub.status.idle": "2023-08-17T20:23:35.121952Z",
          "shell.execute_reply.started": "2023-08-17T20:23:35.113189Z",
          "shell.execute_reply": "2023-08-17T20:23:35.120962Z"
        },
        "trusted": true,
        "id": "udgSSuBlr_uK"
      },
      "execution_count": 6,
      "outputs": []
    },
    {
      "cell_type": "markdown",
      "source": [
        "### Unet helper classes"
      ],
      "metadata": {
        "id": "kV7yYks2r_uL"
      }
    },
    {
      "cell_type": "code",
      "source": [
        "# Build Conv_layer\n",
        "class conv_block(nn.Module):\n",
        "    def __init__(self, in_c, out_c):\n",
        "        super().__init__()\n",
        "\n",
        "        self.conv1 = nn.Conv2d(in_c, out_c, kernel_size=3, padding=1)\n",
        "        self.bn1 = nn.BatchNorm2d(out_c)\n",
        "\n",
        "        self.conv2 = nn.Conv2d(out_c, out_c, kernel_size=3, padding=1)\n",
        "        self.bn2 = nn.BatchNorm2d(out_c)\n",
        "\n",
        "        self.relu = nn.ReLU()\n",
        "\n",
        "    def forward(self, inputs):\n",
        "        x = self.conv1(inputs)\n",
        "        x = self.bn1(x)\n",
        "        x = self.relu(x)\n",
        "\n",
        "        x = self.conv2(x)\n",
        "        x = self.bn2(x)\n",
        "        x = self.relu(x)\n",
        "\n",
        "        return x"
      ],
      "metadata": {
        "execution": {
          "iopub.status.busy": "2023-08-17T20:23:35.954887Z",
          "iopub.execute_input": "2023-08-17T20:23:35.955258Z",
          "iopub.status.idle": "2023-08-17T20:23:35.963198Z",
          "shell.execute_reply.started": "2023-08-17T20:23:35.955227Z",
          "shell.execute_reply": "2023-08-17T20:23:35.961944Z"
        },
        "trusted": true,
        "id": "98o7hUy-r_uM"
      },
      "execution_count": 7,
      "outputs": []
    },
    {
      "cell_type": "code",
      "source": [
        "# Build Encoder section\n",
        "class encoder_block(nn.Module):\n",
        "    def __init__(self, in_c, out_c):\n",
        "        super().__init__()\n",
        "\n",
        "        self.conv = conv_block(in_c, out_c)\n",
        "        self.pool = nn.MaxPool2d((2, 2))\n",
        "\n",
        "    def forward(self, inputs):\n",
        "        x = self.conv(inputs)\n",
        "        p = self.pool(x)\n",
        "\n",
        "        return x, p"
      ],
      "metadata": {
        "execution": {
          "iopub.status.busy": "2023-08-17T20:23:36.201228Z",
          "iopub.execute_input": "2023-08-17T20:23:36.202060Z",
          "iopub.status.idle": "2023-08-17T20:23:36.208401Z",
          "shell.execute_reply.started": "2023-08-17T20:23:36.202024Z",
          "shell.execute_reply": "2023-08-17T20:23:36.207253Z"
        },
        "trusted": true,
        "id": "psb_ld0Nr_uM"
      },
      "execution_count": 8,
      "outputs": []
    },
    {
      "cell_type": "code",
      "source": [
        "# Build Decoder section\n",
        "class decoder_block(nn.Module):\n",
        "    def __init__(self, in_c, out_c):\n",
        "        super().__init__()\n",
        "\n",
        "        self.up = nn.ConvTranspose2d(in_c, out_c, kernel_size=2, stride=2, padding=0)\n",
        "        self.conv = conv_block(out_c+out_c, out_c)\n",
        "\n",
        "    def forward(self, inputs, skip):\n",
        "        x = self.up(inputs)\n",
        "        x = torch.cat([x, skip], axis=1)\n",
        "        x = self.conv(x)\n",
        "        return x"
      ],
      "metadata": {
        "execution": {
          "iopub.status.busy": "2023-08-17T20:23:36.440124Z",
          "iopub.execute_input": "2023-08-17T20:23:36.440504Z",
          "iopub.status.idle": "2023-08-17T20:23:36.447454Z",
          "shell.execute_reply.started": "2023-08-17T20:23:36.440472Z",
          "shell.execute_reply": "2023-08-17T20:23:36.446433Z"
        },
        "trusted": true,
        "id": "a88uuR2lr_uN"
      },
      "execution_count": 9,
      "outputs": []
    },
    {
      "cell_type": "code",
      "source": [
        "# Build Unet architecture\n",
        "class build_unet(nn.Module):\n",
        "    def __init__(self):\n",
        "        super().__init__()\n",
        "\n",
        "        # Encoder\n",
        "        self.e1 = encoder_block(3, 64)\n",
        "        self.e2 = encoder_block(64, 128)\n",
        "        self.e3 = encoder_block(128, 256)\n",
        "        self.e4 = encoder_block(256, 512)\n",
        "\n",
        "        # Bottleneck\n",
        "        self.b = conv_block(512, 1024)\n",
        "\n",
        "        # Decoder\n",
        "        self.d1 = decoder_block(1024, 512)\n",
        "        self.d2 = decoder_block(512, 256)\n",
        "        self.d3 = decoder_block(256, 128)\n",
        "        self.d4 = decoder_block(128, 64)\n",
        "\n",
        "        # Classifier\n",
        "        self.outputs = nn.Conv2d(64, 1, kernel_size=1, padding=0)\n",
        "\n",
        "    def forward(self, inputs):\n",
        "        # Encoder\n",
        "        s1, p1 = self.e1(inputs)\n",
        "        s2, p2 = self.e2(p1)\n",
        "        s3, p3 = self.e3(p2)\n",
        "        s4, p4 = self.e4(p3)\n",
        "\n",
        "        # Bottleneck\n",
        "        b = self.b(p4)\n",
        "\n",
        "        # Decoder\n",
        "        d1 = self.d1(b, s4)\n",
        "        d2 = self.d2(d1, s3)\n",
        "        d3 = self.d3(d2, s2)\n",
        "        d4 = self.d4(d3, s1)\n",
        "\n",
        "        outputs = self.outputs(d4)\n",
        "\n",
        "        return outputs"
      ],
      "metadata": {
        "execution": {
          "iopub.status.busy": "2023-08-17T20:23:36.692829Z",
          "iopub.execute_input": "2023-08-17T20:23:36.693489Z",
          "iopub.status.idle": "2023-08-17T20:23:36.703831Z",
          "shell.execute_reply.started": "2023-08-17T20:23:36.693456Z",
          "shell.execute_reply": "2023-08-17T20:23:36.702526Z"
        },
        "trusted": true,
        "id": "R-VPL_Ecr_uN"
      },
      "execution_count": 10,
      "outputs": []
    },
    {
      "cell_type": "markdown",
      "source": [
        "### Losses classes"
      ],
      "metadata": {
        "id": "JNWVktXBr_uN"
      }
    },
    {
      "cell_type": "code",
      "source": [
        "# Dice Coefficient\n",
        "class DiceLoss(nn.Module):\n",
        "    def __init__(self, weight=None, size_average=True):\n",
        "        super(DiceLoss, self).__init__()\n",
        "\n",
        "    def forward(self, inputs, targets, smooth=1):\n",
        "\n",
        "        inputs = torch.sigmoid(inputs)\n",
        "\n",
        "        inputs = inputs.view(-1)\n",
        "        targets = targets.view(-1)\n",
        "\n",
        "        intersection = (inputs * targets).sum()\n",
        "        dice = (2.*intersection + smooth)/(inputs.sum() + targets.sum() + smooth)\n",
        "\n",
        "        return 1 - dice"
      ],
      "metadata": {
        "execution": {
          "iopub.status.busy": "2023-08-17T20:23:37.166889Z",
          "iopub.execute_input": "2023-08-17T20:23:37.167727Z",
          "iopub.status.idle": "2023-08-17T20:23:37.177255Z",
          "shell.execute_reply.started": "2023-08-17T20:23:37.167692Z",
          "shell.execute_reply": "2023-08-17T20:23:37.176212Z"
        },
        "trusted": true,
        "id": "pQKZDnfxr_uO"
      },
      "execution_count": 11,
      "outputs": []
    },
    {
      "cell_type": "code",
      "source": [
        "# Dice Binary Cross Entropy Coefficient\n",
        "class DiceBCELoss(nn.Module):\n",
        "    def __init__(self, weight=None, size_average=True):\n",
        "        super(DiceBCELoss, self).__init__()\n",
        "\n",
        "    def forward(self, inputs, targets, smooth=1):\n",
        "\n",
        "        inputs = torch.sigmoid(inputs)\n",
        "\n",
        "        inputs = inputs.view(-1)\n",
        "        targets = targets.view(-1)\n",
        "\n",
        "        intersection = (inputs * targets).sum()\n",
        "        dice_loss = 1 - (2.*intersection + smooth)/(inputs.sum() + targets.sum() + smooth)\n",
        "        BCE = F.binary_cross_entropy(inputs, targets, reduction='mean')\n",
        "        Dice_BCE = BCE + dice_loss\n",
        "\n",
        "        return Dice_BCE"
      ],
      "metadata": {
        "execution": {
          "iopub.status.busy": "2023-08-17T20:23:37.402926Z",
          "iopub.execute_input": "2023-08-17T20:23:37.403623Z",
          "iopub.status.idle": "2023-08-17T20:23:37.410977Z",
          "shell.execute_reply.started": "2023-08-17T20:23:37.403584Z",
          "shell.execute_reply": "2023-08-17T20:23:37.410008Z"
        },
        "trusted": true,
        "id": "CnNTjva3r_uO"
      },
      "execution_count": 12,
      "outputs": []
    },
    {
      "cell_type": "markdown",
      "source": [
        "### Function to seed the randomness"
      ],
      "metadata": {
        "id": "oJUUXyd3r_uO"
      }
    },
    {
      "cell_type": "code",
      "source": [
        "def seeding(seed):\n",
        "    random.seed(seed)\n",
        "    os.environ[\"PYTHONHASHSEED\"] = str(seed)\n",
        "    np.random.seed(seed)\n",
        "    torch.manual_seed(seed)\n",
        "    torch.cuda.manual_seed(seed)\n",
        "    torch.backends.cudnn.deterministic = True"
      ],
      "metadata": {
        "execution": {
          "iopub.status.busy": "2023-08-17T20:23:37.914956Z",
          "iopub.execute_input": "2023-08-17T20:23:37.915646Z",
          "iopub.status.idle": "2023-08-17T20:23:37.921757Z",
          "shell.execute_reply.started": "2023-08-17T20:23:37.915595Z",
          "shell.execute_reply": "2023-08-17T20:23:37.920840Z"
        },
        "trusted": true,
        "id": "ehxiF8ZOr_uO"
      },
      "execution_count": 13,
      "outputs": []
    },
    {
      "cell_type": "markdown",
      "source": [
        "### Function to create a new directory"
      ],
      "metadata": {
        "id": "pywKIugqr_uP"
      }
    },
    {
      "cell_type": "code",
      "source": [
        "def create_dir(path):\n",
        "    if not os.path.exists(path):\n",
        "        os.makedirs(path)"
      ],
      "metadata": {
        "execution": {
          "iopub.status.busy": "2023-08-17T20:23:38.626756Z",
          "iopub.execute_input": "2023-08-17T20:23:38.627118Z",
          "iopub.status.idle": "2023-08-17T20:23:38.632921Z",
          "shell.execute_reply.started": "2023-08-17T20:23:38.627089Z",
          "shell.execute_reply": "2023-08-17T20:23:38.631891Z"
        },
        "trusted": true,
        "id": "tPxXLx-Sr_uP"
      },
      "execution_count": 14,
      "outputs": []
    },
    {
      "cell_type": "markdown",
      "source": [
        "### Function to calculate the taken time"
      ],
      "metadata": {
        "id": "O_y4yoXUr_uP"
      }
    },
    {
      "cell_type": "code",
      "source": [
        "def epoch_time(start_time, end_time):\n",
        "    elapsed_time = end_time - start_time\n",
        "    elapsed_mins = int(elapsed_time / 60)\n",
        "    elapsed_secs = int(elapsed_time - (elapsed_mins * 60))\n",
        "    return elapsed_mins, elapsed_secs"
      ],
      "metadata": {
        "execution": {
          "iopub.status.busy": "2023-08-17T20:23:39.240001Z",
          "iopub.execute_input": "2023-08-17T20:23:39.241080Z",
          "iopub.status.idle": "2023-08-17T20:23:39.251893Z",
          "shell.execute_reply.started": "2023-08-17T20:23:39.241044Z",
          "shell.execute_reply": "2023-08-17T20:23:39.250910Z"
        },
        "trusted": true,
        "id": "44_-JSs5r_uP"
      },
      "execution_count": 15,
      "outputs": []
    },
    {
      "cell_type": "markdown",
      "source": [
        "### Function to train the model"
      ],
      "metadata": {
        "id": "9Mot5opGr_uP"
      }
    },
    {
      "cell_type": "code",
      "source": [
        "def train(model, loader, optimizer, loss_fn, device):\n",
        "    epoch_loss = 0.0\n",
        "\n",
        "    model.train()\n",
        "    for x, y in loader:\n",
        "        x = x.to(device, dtype=torch.float32)\n",
        "        y = y.to(device, dtype=torch.float32)\n",
        "\n",
        "        optimizer.zero_grad()\n",
        "        y_pred = model(x)\n",
        "        loss = loss_fn(y_pred, y)\n",
        "        loss.backward()\n",
        "        optimizer.step()\n",
        "        epoch_loss += loss.item()\n",
        "\n",
        "    epoch_loss = epoch_loss/len(loader)\n",
        "    return epoch_loss"
      ],
      "metadata": {
        "execution": {
          "iopub.status.busy": "2023-08-17T20:23:39.931283Z",
          "iopub.execute_input": "2023-08-17T20:23:39.931675Z",
          "iopub.status.idle": "2023-08-17T20:23:39.938241Z",
          "shell.execute_reply.started": "2023-08-17T20:23:39.931644Z",
          "shell.execute_reply": "2023-08-17T20:23:39.937314Z"
        },
        "trusted": true,
        "id": "nKFP7USKr_uP"
      },
      "execution_count": 16,
      "outputs": []
    },
    {
      "cell_type": "markdown",
      "source": [
        "### Function to evaluate the model"
      ],
      "metadata": {
        "id": "imK4oNu5r_uP"
      }
    },
    {
      "cell_type": "code",
      "source": [
        "def evaluate(model, loader, loss_fn, device):\n",
        "    epoch_loss = 0.0\n",
        "\n",
        "    model.eval()\n",
        "    with torch.no_grad():\n",
        "        for x, y in loader:\n",
        "            x = x.to(device, dtype=torch.float32)\n",
        "            y = y.to(device, dtype=torch.float32)\n",
        "\n",
        "            y_pred = model(x)\n",
        "            loss = loss_fn(y_pred, y)\n",
        "            epoch_loss += loss.item()\n",
        "\n",
        "        epoch_loss = epoch_loss / len(loader)\n",
        "    return epoch_loss"
      ],
      "metadata": {
        "execution": {
          "iopub.status.busy": "2023-08-17T20:23:40.649913Z",
          "iopub.execute_input": "2023-08-17T20:23:40.650782Z",
          "iopub.status.idle": "2023-08-17T20:23:40.657649Z",
          "shell.execute_reply.started": "2023-08-17T20:23:40.650746Z",
          "shell.execute_reply": "2023-08-17T20:23:40.656587Z"
        },
        "trusted": true,
        "id": "d-DrUtaIr_uP"
      },
      "execution_count": 17,
      "outputs": []
    },
    {
      "cell_type": "markdown",
      "source": [
        "## Data Preprocessing"
      ],
      "metadata": {
        "id": "L_UmHXxOr_uP"
      }
    },
    {
      "cell_type": "markdown",
      "source": [
        "### Get data paths"
      ],
      "metadata": {
        "id": "rIFTtfQLr_uP"
      }
    },
    {
      "cell_type": "code",
      "source": [
        "# Seeding\n",
        "seeding(42)\n",
        "\n",
        "# Create files directory to store checkpoint file\n",
        "create_dir(\"files\")\n",
        "\n",
        "#  Get data paths\n",
        "train_x = sorted(glob(\"/content/Data/train/image/*\"))\n",
        "train_y = sorted(glob(\"/content/Data/train/mask/*\"))\n",
        "\n",
        "valid_x = sorted(glob(\"/content/Data/test/image/*\"))\n",
        "valid_y = sorted(glob(\"/content/Data/test/mask/*\"))\n",
        "\n",
        "data_str = f\"Dataset Size:\\nTrain: {len(train_x)} - Valid: {len(valid_x)}\\n\"\n",
        "print(data_str)"
      ],
      "metadata": {
        "execution": {
          "iopub.status.busy": "2023-08-17T20:23:41.985496Z",
          "iopub.execute_input": "2023-08-17T20:23:41.986195Z",
          "iopub.status.idle": "2023-08-17T20:23:42.047295Z",
          "shell.execute_reply.started": "2023-08-17T20:23:41.986161Z",
          "shell.execute_reply": "2023-08-17T20:23:42.046293Z"
        },
        "trusted": true,
        "colab": {
          "base_uri": "https://localhost:8080/"
        },
        "id": "klLhlYa1r_uP",
        "outputId": "391e520d-32da-4f6f-c717-ef9cd95e0d4b"
      },
      "execution_count": 18,
      "outputs": [
        {
          "output_type": "stream",
          "name": "stdout",
          "text": [
            "Dataset Size:\n",
            "Train: 80 - Valid: 20\n",
            "\n"
          ]
        }
      ]
    },
    {
      "cell_type": "markdown",
      "source": [
        "### Set hyperparameters"
      ],
      "metadata": {
        "id": "BenTzuHCr_uP"
      }
    },
    {
      "cell_type": "code",
      "source": [
        "H = 512\n",
        "W = 512\n",
        "size = (H, W)\n",
        "batch_size = 2\n",
        "lr = 1e-4\n",
        "checkpoint_path = \"files/checkpoint.pth\""
      ],
      "metadata": {
        "execution": {
          "iopub.status.busy": "2023-08-17T20:23:43.035747Z",
          "iopub.execute_input": "2023-08-17T20:23:43.036307Z",
          "iopub.status.idle": "2023-08-17T20:23:43.041429Z",
          "shell.execute_reply.started": "2023-08-17T20:23:43.036271Z",
          "shell.execute_reply": "2023-08-17T20:23:43.040402Z"
        },
        "trusted": true,
        "id": "47JTXTHKr_uP"
      },
      "execution_count": 19,
      "outputs": []
    },
    {
      "cell_type": "markdown",
      "source": [
        "### Load dataset"
      ],
      "metadata": {
        "id": "J0wtASNdr_uP"
      }
    },
    {
      "cell_type": "code",
      "source": [
        "train_dataset = DriveDataset(train_x, train_y)\n",
        "valid_dataset = DriveDataset(valid_x, valid_y)\n",
        "\n",
        "train_loader = DataLoader(\n",
        "    dataset=train_dataset,\n",
        "    batch_size=batch_size,\n",
        "    shuffle=True,\n",
        "    num_workers=2\n",
        ")\n",
        "\n",
        "valid_loader = DataLoader(\n",
        "    dataset=valid_dataset,\n",
        "    batch_size=batch_size,\n",
        "    shuffle=False,\n",
        "    num_workers=2\n",
        ")"
      ],
      "metadata": {
        "execution": {
          "iopub.status.busy": "2023-08-17T20:23:44.610787Z",
          "iopub.execute_input": "2023-08-17T20:23:44.611160Z",
          "iopub.status.idle": "2023-08-17T20:23:44.617852Z",
          "shell.execute_reply.started": "2023-08-17T20:23:44.611128Z",
          "shell.execute_reply": "2023-08-17T20:23:44.616597Z"
        },
        "trusted": true,
        "id": "ZR899Urdr_uQ"
      },
      "execution_count": 20,
      "outputs": []
    },
    {
      "cell_type": "markdown",
      "source": [
        "Now we can build a Unet model for segementation."
      ],
      "metadata": {
        "id": "RtuI38cfwmnb"
      }
    }
  ]
}